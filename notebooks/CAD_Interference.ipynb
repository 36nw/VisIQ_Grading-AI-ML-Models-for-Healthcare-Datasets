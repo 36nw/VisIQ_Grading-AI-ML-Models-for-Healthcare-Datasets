{
 "cells": [
  {
   "cell_type": "markdown",
   "id": "ee9db551-fd3a-4663-9cda-4cbe273794d9",
   "metadata": {},
   "source": [
    "## Read Data"
   ]
  },
  {
   "cell_type": "code",
   "execution_count": 1,
   "id": "7c63cd40-1ac4-4e7c-a778-daa435a04ab5",
   "metadata": {
    "tags": []
   },
   "outputs": [
    {
     "name": "stdout",
     "output_type": "stream",
     "text": [
      "Data from sheet 'ResNet18_20_250_372V946_INF250':\n",
      "Data from sheet 'Resnet18_50_250_336V945_INF250':\n",
      "Data from sheet 'ResNet50_20_250_337V945_INF250':\n",
      "Data from sheet 'ResNet50_50_250_338V945_INF250':\n",
      "Data from sheet 'Incep20_250_343V945_INF250':\n",
      "Data from sheet 'Incep50_250_367V945_INF250':\n",
      "Data from sheet 'ResNet18_20_500_406V948_IN250':\n",
      "Data from sheet 'ResNet18_50_500_407V948_INF250':\n",
      "Data from sheet 'ResNet50_20_500_408V948_INF250':\n",
      "Data from sheet 'ResNet50_50_500_409V948_INF250':\n",
      "Data from sheet 'Incep20_500_410V948_INF250':\n",
      "Data from sheet 'Incep50_500_411V948_INF250':\n",
      "Data from sheet 'ResNet18_20_1000_445V955_INF250':\n",
      "Data from sheet 'ResNet18_50_1000_446V955_INF250':\n",
      "Data from sheet 'ResNet50_20_1000_447V955_INF250':\n",
      "Data from sheet 'ResNet50_50_1000_468V956_INF250':\n",
      "Data from sheet 'Incep20_1000_462V955_INF250':\n",
      "Data from sheet 'Incep50_1000_460V955_INF250':\n"
     ]
    }
   ],
   "source": [
    "import pandas as pd\n",
    "\n",
    "# Excel file path\n",
    "file_path = 'C:/Users/muge/Dropbox/GMU/DAEN 690/Data/DAEN_690_Inference_CAD.xlsx'\n",
    "\n",
    "# Dictionary to store DataFrames\n",
    "dfs = {}\n",
    "\n",
    "# List of sheet names\n",
    "sheet_names = [\n",
    "    'ResNet18_20_250_372V946_INF250',\n",
    "    'Resnet18_50_250_336V945_INF250',\n",
    "    'ResNet50_20_250_337V945_INF250',\n",
    "    'ResNet50_50_250_338V945_INF250',\n",
    "    'Incep20_250_343V945_INF250',\n",
    "    'Incep50_250_367V945_INF250',\n",
    "    'ResNet18_20_500_406V948_IN250',\n",
    "    'ResNet18_50_500_407V948_INF250',\n",
    "    'ResNet50_20_500_408V948_INF250',\n",
    "    'ResNet50_50_500_409V948_INF250',\n",
    "    'Incep20_500_410V948_INF250',\n",
    "    'Incep50_500_411V948_INF250',\n",
    "    'ResNet18_20_1000_445V955_INF250',\n",
    "    'ResNet18_50_1000_446V955_INF250',\n",
    "    'ResNet50_20_1000_447V955_INF250',\n",
    "    'ResNet50_50_1000_468V956_INF250',\n",
    "    'Incep20_1000_462V955_INF250',\n",
    "    'Incep50_1000_460V955_INF250',\n",
    "]\n",
    "\n",
    "# Read each sheet into a DataFrame\n",
    "for sheet_name in sheet_names:\n",
    "    df = pd.read_excel(file_path, sheet_name=sheet_name)\n",
    "    dfs[sheet_name] = df\n",
    "\n",
    "# Access each DataFrame by sheet name\n",
    "for sheet_name, df in dfs.items():\n",
    "    print(f\"Data from sheet '{sheet_name}':\")\n",
    "    #print(df)"
   ]
  },
  {
   "cell_type": "code",
   "execution_count": 2,
   "id": "37f67337-5bf9-458f-92f0-0892e72aa706",
   "metadata": {
    "tags": []
   },
   "outputs": [],
   "source": [
    "# Read all sheets into a list of DataFrames\n",
    "dfs = [pd.read_excel(file_path, sheet_name=sheet_name) for sheet_name in sheet_names]\n",
    "\n",
    "# Concatenate all DataFrames vertically\n",
    "merged_df = pd.concat(dfs, ignore_index=True)\n",
    "\n",
    "# Display the merged DataFrame\n",
    "# print(merged_df)"
   ]
  },
  {
   "cell_type": "markdown",
   "id": "ff5fb756-5b97-4c67-acb4-497e9d53b774",
   "metadata": {},
   "source": [
    "## Explore Data"
   ]
  },
  {
   "cell_type": "markdown",
   "id": "5ee08f2a-844f-4026-beae-9f2e20dcf5fe",
   "metadata": {
    "tags": []
   },
   "source": [
    "#### Check Data Types"
   ]
  },
  {
   "cell_type": "code",
   "execution_count": 3,
   "id": "ce6cdedd-a4a3-42cc-b8cb-26d3c1079687",
   "metadata": {
    "tags": []
   },
   "outputs": [
    {
     "name": "stdout",
     "output_type": "stream",
     "text": [
      "Columns:\n",
      "Index(['MODEL_VERSION', 'ACTUAL_DATASET_ID', 'IMAGE_NAME',\n",
      "       'PREDICTED_DATASET_ID', 'CONFIDENCE', 'REQUEST_ID', 'MODEL_ID',\n",
      "       'MODEL_NAME', 'TYPE', 'ACTUAL_IMAGE', 'PREDICTED_IMAGE', 'MATCH'],\n",
      "      dtype='object')\n",
      "\n",
      "Data Types:\n",
      "MODEL_VERSION            int64\n",
      "ACTUAL_DATASET_ID        int64\n",
      "IMAGE_NAME              object\n",
      "PREDICTED_DATASET_ID     int64\n",
      "CONFIDENCE               int64\n",
      "REQUEST_ID              object\n",
      "MODEL_ID                 int64\n",
      "MODEL_NAME              object\n",
      "TYPE                    object\n",
      "ACTUAL_IMAGE            object\n",
      "PREDICTED_IMAGE         object\n",
      "MATCH                   object\n",
      "dtype: object\n"
     ]
    }
   ],
   "source": [
    "print(\"Columns:\")\n",
    "print(merged_df.columns)\n",
    "\n",
    "print(\"\\nData Types:\")\n",
    "print(merged_df.dtypes)"
   ]
  },
  {
   "cell_type": "code",
   "execution_count": 4,
   "id": "46095a7e-4c30-47b2-b025-7cfb7213c738",
   "metadata": {
    "tags": []
   },
   "outputs": [
    {
     "name": "stdout",
     "output_type": "stream",
     "text": [
      "MODEL_VERSION            Int64\n",
      "ACTUAL_DATASET_ID        Int64\n",
      "IMAGE_NAME              object\n",
      "PREDICTED_DATASET_ID     Int64\n",
      "CONFIDENCE               Int64\n",
      "REQUEST_ID              object\n",
      "MODEL_ID                 Int64\n",
      "MODEL_NAME              object\n",
      "TYPE                    object\n",
      "ACTUAL_IMAGE            object\n",
      "PREDICTED_IMAGE         object\n",
      "MATCH                   object\n",
      "dtype: object\n"
     ]
    }
   ],
   "source": [
    "# Convert numerical columns into proper data types\n",
    "df['MODEL_VERSION'] = df['MODEL_VERSION'].astype('Int64')\n",
    "df['ACTUAL_DATASET_ID'] = df['ACTUAL_DATASET_ID'].astype('Int64')\n",
    "df['PREDICTED_DATASET_ID'] = df['PREDICTED_DATASET_ID'].astype('Int64')\n",
    "df['CONFIDENCE'] = df['CONFIDENCE'].astype('Int64')\n",
    "df['MODEL_ID'] = df['MODEL_ID'].astype('Int64')\n",
    "\n",
    "# Display the data types to confirm the conversion\n",
    "print(df.dtypes)"
   ]
  },
  {
   "cell_type": "markdown",
   "id": "ad4cb345-5140-4a08-bc99-9c36ac7a9998",
   "metadata": {},
   "source": [
    "##### Distinct Values within Variables"
   ]
  },
  {
   "cell_type": "code",
   "execution_count": 5,
   "id": "a8f414b9-f2f8-4f0a-998d-baa67fb2390f",
   "metadata": {
    "tags": []
   },
   "outputs": [
    {
     "name": "stdout",
     "output_type": "stream",
     "text": [
      "Model Name: TOT1K\n",
      "Distinct Model Versions: {406, 407, 408, 409, 410, 411}\n",
      "\n",
      "Model Name: TOT2K\n",
      "Distinct Model Versions: {460, 462, 445, 446, 447}\n",
      "\n",
      "Model Name: TOT2K_2\n",
      "Distinct Model Versions: {468}\n",
      "\n",
      "Model Name: TOT500\n",
      "Distinct Model Versions: {367, 336, 337, 338, 343}\n",
      "\n",
      "Model Name: TOT500_2\n",
      "Distinct Model Versions: {372}\n",
      "\n"
     ]
    }
   ],
   "source": [
    "# Group by 'model_name' and aggregate 'model_version' using set to get distinct values\n",
    "distinct_versions = merged_df.groupby('MODEL_NAME')['MODEL_VERSION'].agg(lambda x: set(x))\n",
    "\n",
    "# Print distinct model_version values for each model_name\n",
    "for model_name, versions in distinct_versions.items():\n",
    "    print(f\"Model Name: {model_name}\")\n",
    "    print(f\"Distinct Model Versions: {versions}\\n\")"
   ]
  },
  {
   "cell_type": "code",
   "execution_count": 6,
   "id": "c0aa3134-f874-4d9f-96be-5cd004244af0",
   "metadata": {
    "tags": []
   },
   "outputs": [
    {
     "name": "stdout",
     "output_type": "stream",
     "text": [
      "Model Name: TOT1K\n",
      "Distinct Model IDs: {948}\n",
      "\n",
      "Model Name: TOT2K\n",
      "Distinct Model IDs: {955}\n",
      "\n",
      "Model Name: TOT2K_2\n",
      "Distinct Model IDs: {956}\n",
      "\n",
      "Model Name: TOT500\n",
      "Distinct Model IDs: {945}\n",
      "\n",
      "Model Name: TOT500_2\n",
      "Distinct Model IDs: {946}\n",
      "\n"
     ]
    }
   ],
   "source": [
    "# Group by 'model_name' and aggregate 'model_version' using set to get distinct values\n",
    "distinct_versions = merged_df.groupby('MODEL_NAME')['MODEL_ID'].agg(lambda x: set(x))\n",
    "\n",
    "# Print distinct model_version values for each model_name\n",
    "for model_name, versions in distinct_versions.items():\n",
    "    print(f\"Model Name: {model_name}\")\n",
    "    print(f\"Distinct Model IDs: {versions}\\n\")"
   ]
  },
  {
   "cell_type": "code",
   "execution_count": 7,
   "id": "eec45737-47ff-45b2-aec8-c4b0260693b4",
   "metadata": {
    "tags": []
   },
   "outputs": [
    {
     "name": "stdout",
     "output_type": "stream",
     "text": [
      "Column: IMAGE_NAME\n",
      "['Positive_Coronary_644_LAD1_5.jpeg' 'Positive_Coronary_708_LAD1_6.jpeg'\n",
      " 'Positive_Coronary_479_RCA1_2.jpeg' 'Positive_Coronary_454_RCA1_8.jpeg'\n",
      " 'Positive_Coronary_228_LAD1_1.jpeg'\n",
      " 'Positive_Coronary_634_RCA_Secondary4_2.jpeg'\n",
      " 'Positive_Coronary_169_RCA_Secondary1_3.jpeg'\n",
      " 'Positive_Coronary_449_LAD1_8.jpeg' 'Positive_Coronary_629_CX1_4.jpeg'\n",
      " 'Positive_Coronary_454_LAD_Secondary1_8.jpeg'\n",
      " 'Positive_Coronary_493_LAD1_6.jpeg' 'Positive_Coronary_478_LAD1_1.jpeg'\n",
      " 'Positive_Coronary_054_RCA1_3.jpeg' 'Positive_Coronary_078_LAD1_8.jpeg'\n",
      " 'Positive_Coronary_020_CX_Secondary3_7.jpeg'\n",
      " 'Positive_Coronary_220_LAD_Secondary1_2.jpeg'\n",
      " 'Positive_Coronary_609_RCA1_6.jpeg' 'Positive_Coronary_642_LAD1_8.jpeg'\n",
      " 'Positive_Coronary_636_RCA1_1.jpeg' 'Positive_Coronary_512_LAD1_6.jpeg'\n",
      " 'Positive_Coronary_622_CX1_4.jpeg'\n",
      " 'Positive_Coronary_449_RCA_Secondary2_3.jpeg'\n",
      " 'Positive_Coronary_026_LAD1_7.jpeg' 'Positive_Coronary_667_LAD1_7.jpeg'\n",
      " 'Positive_Coronary_632_LAD1_6.jpeg' 'Positive_Coronary_623_LAD1_4.jpeg'\n",
      " 'Positive_Coronary_018_LAD_Secondary2_4.jpeg'\n",
      " 'Positive_Coronary_483_RCA1_2.jpeg' 'Positive_Coronary_186_CX1_1.jpeg'\n",
      " 'Positive_Coronary_198_LAD1_6.jpeg' 'Positive_Coronary_641_CX1_6.jpeg'\n",
      " 'Positive_Coronary_623_CX1_1.jpeg'\n",
      " 'Positive_Coronary_458_CX_Secondary9_1.jpeg'\n",
      " 'Positive_Coronary_187_RCA1_2.jpeg' 'Positive_Coronary_616_LAD1_2.jpeg'\n",
      " 'Positive_Coronary_074_CX1_1.jpeg' 'Positive_Coronary_454_LAD1_4.jpeg'\n",
      " 'Positive_Coronary_458_RCA1_6.jpeg'\n",
      " 'Positive_Coronary_629_CX_Secondary2_3.jpeg'\n",
      " 'Positive_Coronary_020_RCA1_5.jpeg'\n",
      " 'Positive_Coronary_074_RCA_Secondary1_2.jpeg'\n",
      " 'Positive_Coronary_634_RCA_Secondary3_4.jpeg'\n",
      " 'Positive_Coronary_169_CX1_1.jpeg' 'Positive_Coronary_079_LAD1_3.jpeg'\n",
      " 'Positive_Coronary_463_LAD1_1.jpeg' 'Positive_Coronary_495_CX1_1.jpeg'\n",
      " 'Positive_Coronary_170_RCA1_3.jpeg' 'Positive_Coronary_495_RCA1_6.jpeg'\n",
      " 'Positive_Coronary_134_RCA1_1.jpeg' 'Positive_Coronary_609_CX1_2.jpeg'\n",
      " 'Positive_Coronary_170_CX1_7.jpeg'\n",
      " 'Positive_Coronary_220_CX_Secondary2_6.jpeg'\n",
      " 'Positive_Coronary_078_RCA1_3.jpeg'\n",
      " 'Positive_Coronary_187_CX_Secondary5_8.jpeg'\n",
      " 'Positive_Coronary_186_LAD1_5.jpeg'\n",
      " 'Positive_Coronary_454_RCA_Secondary1_4.jpeg'\n",
      " 'Positive_Coronary_493_CX1_5.jpeg'\n",
      " 'Positive_Coronary_458_LAD_Secondary4_7.jpeg'\n",
      " 'Positive_Coronary_634_RCA1_3.jpeg' 'Positive_Coronary_449_RCA1_3.jpeg'\n",
      " 'Positive_Coronary_134_CX1_1.jpeg' 'Positive_Coronary_074_LAD1_2.jpeg'\n",
      " 'Positive_Coronary_490_RCA1_1.jpeg' 'Positive_Coronary_150_RCA1_8.jpeg'\n",
      " 'Positive_Coronary_483_LAD1_1.jpeg' 'Positive_Coronary_003_CX1_8.jpeg'\n",
      " 'Positive_Coronary_187_LAD_Secondary1_7.jpeg'\n",
      " 'Positive_Coronary_479_CX_Secondary4_8.jpeg'\n",
      " 'Positive_Coronary_220_LAD_Secondary2_8.jpeg'\n",
      " 'Positive_Coronary_636_LAD1_1.jpeg' 'Positive_Coronary_169_RCA1_8.jpeg'\n",
      " 'Positive_Coronary_198_RCA1_4.jpeg' 'Positive_Coronary_609_LAD1_6.jpeg'\n",
      " 'Positive_Coronary_454_CX1_3.jpeg'\n",
      " 'Positive_Coronary_134_LAD_Secondary2_4.jpeg'\n",
      " 'Positive_Coronary_170_LAD_Secondary2_5.jpeg'\n",
      " 'Positive_Coronary_479_LAD1_5.jpeg' 'Positive_Coronary_049_CX1_7.jpeg'\n",
      " 'Positive_Coronary_054_CX_Secondary1_7.jpeg'\n",
      " 'Positive_Coronary_493_RCA1_3.jpeg' 'Positive_Coronary_452_CX1_6.jpeg'\n",
      " 'Positive_Coronary_622_LAD1_5.jpeg' 'Positive_Coronary_452_LAD1_6.jpeg'\n",
      " 'Positive_Coronary_632_RCA1_3.jpeg' 'Positive_Coronary_512_RCA1_3.jpeg'\n",
      " 'Positive_Coronary_169_LAD_Secondary1_6.jpeg'\n",
      " 'Positive_Coronary_018_LAD1_5.jpeg' 'Positive_Coronary_054_LAD1_1.jpeg'\n",
      " 'Positive_Coronary_186_CX_Secondary1_4.jpeg'\n",
      " 'Positive_Coronary_049_CX_Secondary1_4.jpeg'\n",
      " 'Positive_Coronary_493_RCA_Secondary1_2.jpeg'\n",
      " 'Positive_Coronary_118_LAD1_1.jpeg'\n",
      " 'Positive_Coronary_708_LAD_Secondary2_4.jpeg'\n",
      " 'Positive_Coronary_708_RCA1_5.jpeg' 'Positive_Coronary_049_LAD1_8.jpeg'\n",
      " 'Positive_Coronary_170_LAD_Secondary1_5.jpeg'\n",
      " 'Positive_Coronary_170_LAD1_2.jpeg' 'Positive_Coronary_458_LAD1_2.jpeg'\n",
      " 'Positive_Coronary_018_CX1_3.jpeg'\n",
      " 'Positive_Coronary_170_CX_Secondary4_2.jpeg'\n",
      " 'Positive_Coronary_186_CX_Secondary2_2.jpeg'\n",
      " 'Positive_Coronary_187_LAD1_4.jpeg' 'Positive_Coronary_490_LAD1_2.jpeg'\n",
      " 'Positive_Coronary_449_LAD_Secondary1_5.jpeg'\n",
      " 'Positive_Coronary_512_LAD_Secondary1_8.jpeg'\n",
      " 'Positive_Coronary_186_RCA_Secondary4_8.jpeg'\n",
      " 'Positive_Coronary_150_LAD1_8.jpeg' 'Positive_Coronary_455_LAD1_3.jpeg'\n",
      " 'Positive_Coronary_003_LAD1_5.jpeg' 'Positive_Coronary_012_LAD1_7.jpeg'\n",
      " 'Positive_Coronary_708_LAD_Secondary1_3.jpeg'\n",
      " 'Positive_Coronary_186_LAD_Secondary1_6.jpeg'\n",
      " 'Positive_Coronary_170_CX_Secondary2_2.jpeg'\n",
      " 'Positive_Coronary_495_LAD1_1.jpeg' 'Positive_Coronary_617_LAD1_1.jpeg'\n",
      " 'Positive_Coronary_187_LAD_Secondary4_7.jpeg'\n",
      " 'Positive_Coronary_479_CX_Secondary1_8.jpeg'\n",
      " 'Positive_Coronary_678_LAD1_1.jpeg' 'Positive_Coronary_500_LAD1_3.jpeg'\n",
      " 'Positive_Coronary_020_LAD1_5.jpeg' 'Positive_Coronary_169_LAD1_3.jpeg'\n",
      " 'Positive_Coronary_134_LAD1_5.jpeg' 'Positive_Coronary_223_LAD1_5.jpeg'\n",
      " 'Positive_Coronary_479_CX1_4.jpeg'\n",
      " 'Positive_Coronary_220_RCA_Secondary2_6.jpeg'\n",
      " 'Negative_Coronary_038_RCA1_1.jpeg'\n",
      " 'Negative_Coronary_068_LAD_Secondary6_1.jpeg'\n",
      " 'Negative_Coronary_068_CX_Secondary2_1.jpeg'\n",
      " 'Negative_Coronary_043_LAD_Secondary3_1.jpeg'\n",
      " 'Negative_Coronary_038_CX_Secondary2_1.jpeg'\n",
      " 'Negative_Coronary_021_LAD_Secondary9_1.jpeg'\n",
      " 'Negative_Coronary_008_LAD_Secondary1_1.jpeg'\n",
      " 'Negative_Coronary_008_RCA_Secondary8_1.jpeg'\n",
      " 'Negative_Coronary_021_CX_Secondary2_1.jpeg'\n",
      " 'Negative_Coronary_021_RCA_Secondary2_1.jpeg'\n",
      " 'Negative_Coronary_008_LAD_Secondary3_1.jpeg'\n",
      " 'Negative_Coronary_072_CX_Secondary2_1.jpeg'\n",
      " 'Negative_Coronary_043_LAD_Secondary1_1.jpeg'\n",
      " 'Negative_Coronary_038_RCA_Secondary5_1.jpeg'\n",
      " 'Negative_Coronary_068_LAD_Secondary4_1.jpeg'\n",
      " 'Negative_Coronary_043_RCA_Secondary8_1.jpeg'\n",
      " 'Negative_Coronary_038_RCA_Secondary1_1.jpeg'\n",
      " 'Negative_Coronary_043_LAD_Secondary5_1.jpeg'\n",
      " 'Negative_Coronary_068_CX_Secondary4_1.jpeg'\n",
      " 'Negative_Coronary_008_RCA_Secondary10_1.jpeg'\n",
      " 'Negative_Coronary_021_RCA_Secondary6_1.jpeg'\n",
      " 'Negative_Coronary_008_LAD_Secondary7_1.jpeg'\n",
      " 'Negative_Coronary_008_CX1_1.jpeg'\n",
      " 'Negative_Coronary_038_CX_Secondary4_1.jpeg'\n",
      " 'Negative_Coronary_008_LAD_Secondary5_1.jpeg'\n",
      " 'Negative_Coronary_038_CX_Secondary6_1.jpeg'\n",
      " 'Negative_Coronary_008_RCA_Secondary12_1.jpeg'\n",
      " 'Negative_Coronary_068_RCA1_1.jpeg'\n",
      " 'Negative_Coronary_021_RCA_Secondary4_1.jpeg'\n",
      " 'Negative_Coronary_068_CX_Secondary6_1.jpeg'\n",
      " 'Negative_Coronary_068_LAD_Secondary2_1.jpeg'\n",
      " 'Negative_Coronary_021_RCA1_1.jpeg'\n",
      " 'Negative_Coronary_038_RCA_Secondary3_1.jpeg'\n",
      " 'Negative_Coronary_043_RCA1_1.jpeg'\n",
      " 'Negative_Coronary_072_CX_Secondary4_1.jpeg'\n",
      " 'Negative_Coronary_008_LAD_Secondary2_1.jpeg'\n",
      " 'Negative_Coronary_038_CX_Secondary1_1.jpeg'\n",
      " 'Negative_Coronary_021_CX_Secondary1_1.jpeg'\n",
      " 'Negative_Coronary_021_LAD_Secondary10_1.jpeg'\n",
      " 'Negative_Coronary_021_RCA_Secondary3_1.jpeg'\n",
      " 'Negative_Coronary_068_CX_Secondary1_1.jpeg'\n",
      " 'Negative_Coronary_068_LAD_Secondary5_1.jpeg'\n",
      " 'Negative_Coronary_038_RCA_Secondary4_1.jpeg'\n",
      " 'Negative_Coronary_072_CX_Secondary3_1.jpeg'\n",
      " 'Negative_Coronary_043_LAD_Secondary2_1.jpeg'\n",
      " 'Negative_Coronary_072_CX_Secondary1_1.jpeg'\n",
      " 'Negative_Coronary_068_CX_Secondary3_1.jpeg'\n",
      " 'Negative_Coronary_068_LAD_Secondary7_1.jpeg'\n",
      " 'Negative_Coronary_021_CX_Secondary3_1.jpeg'\n",
      " 'Negative_Coronary_021_RCA_Secondary1_1.jpeg'\n",
      " 'Negative_Coronary_008_RCA_Secondary9_1.jpeg'\n",
      " 'Negative_Coronary_021_LAD_Secondary8_1.jpeg'\n",
      " 'Negative_Coronary_038_CX_Secondary3_1.jpeg'\n",
      " 'Negative_Coronary_021_RCA_Secondary5_1.jpeg'\n",
      " 'Negative_Coronary_038_CX_Secondary7_1.jpeg'\n",
      " 'Negative_Coronary_008_LAD_Secondary4_1.jpeg'\n",
      " 'Negative_Coronary_038_RCA_Secondary2_1.jpeg'\n",
      " 'Negative_Coronary_068_LAD_Secondary3_1.jpeg'\n",
      " 'Negative_Coronary_068_LAD_Secondary1_1.jpeg'\n",
      " 'Negative_Coronary_068_CX_Secondary5_1.jpeg'\n",
      " 'Negative_Coronary_043_LAD_Secondary4_1.jpeg'\n",
      " 'Negative_Coronary_038_CX_Secondary5_1.jpeg'\n",
      " 'Negative_Coronary_008_LAD_Secondary6_1.jpeg'\n",
      " 'Negative_Coronary_021_RCA_Secondary7_1.jpeg'\n",
      " 'Negative_Coronary_008_RCA1_1.jpeg'\n",
      " 'Negative_Coronary_008_RCA_Secondary11_1.jpeg'\n",
      " 'Negative_Coronary_008_RCA_Secondary3_1.jpeg'\n",
      " 'Negative_Coronary_008_CX_Secondary5_1.jpeg'\n",
      " 'Negative_Coronary_043_CX1_1.jpeg'\n",
      " 'Negative_Coronary_021_LAD_Secondary2_1.jpeg'\n",
      " 'Negative_Coronary_068_RCA_Secondary4_1.jpeg'\n",
      " 'Negative_Coronary_038_LAD_Secondary5_1.jpeg'\n",
      " 'Negative_Coronary_021_RCA_Secondary15_1.jpeg'\n",
      " 'Negative_Coronary_043_RCA_Secondary1_1.jpeg'\n",
      " 'Negative_Coronary_043_RCA_Secondary3_1.jpeg'\n",
      " 'Negative_Coronary_043_LAD1_1.jpeg' 'Negative_Coronary_021_LAD1_1.jpeg'\n",
      " 'Negative_Coronary_068_RCA_Secondary6_1.jpeg'\n",
      " 'Negative_Coronary_008_LAD_Secondary8_1.jpeg'\n",
      " 'Negative_Coronary_008_RCA_Secondary1_1.jpeg'\n",
      " 'Negative_Coronary_068_LAD1_1.jpeg'\n",
      " 'Negative_Coronary_021_RCA_Secondary9_1.jpeg'\n",
      " 'Negative_Coronary_021_LAD_Secondary4_1.jpeg'\n",
      " 'Negative_Coronary_043_CX_Secondary1_1.jpeg'\n",
      " 'Negative_Coronary_008_RCA_Secondary5_1.jpeg'\n",
      " 'Negative_Coronary_008_CX_Secondary3_1.jpeg'\n",
      " 'Negative_Coronary_043_RCA_Secondary7_1.jpeg'\n",
      " 'Negative_Coronary_038_LAD_Secondary3_1.jpeg'\n",
      " 'Negative_Coronary_038_LAD1_1.jpeg'\n",
      " 'Negative_Coronary_021_RCA_Secondary13_1.jpeg'\n",
      " 'Negative_Coronary_068_RCA_Secondary2_1.jpeg'\n",
      " 'Negative_Coronary_043_RCA_Secondary5_1.jpeg'\n",
      " 'Negative_Coronary_021_RCA_Secondary11_1.jpeg'\n",
      " 'Negative_Coronary_038_LAD_Secondary1_1.jpeg'\n",
      " 'Negative_Coronary_008_RCA_Secondary7_1.jpeg'\n",
      " 'Negative_Coronary_008_CX_Secondary1_1.jpeg'\n",
      " 'Negative_Coronary_043_CX_Secondary3_1.jpeg'\n",
      " 'Negative_Coronary_021_LAD_Secondary6_1.jpeg'\n",
      " 'Negative_Coronary_038_CX1_1.jpeg'\n",
      " 'Negative_Coronary_043_RCA_Secondary2_1.jpeg'\n",
      " 'Negative_Coronary_021_RCA_Secondary8_1.jpeg'\n",
      " 'Negative_Coronary_043_CX_Secondary4_1.jpeg'\n",
      " 'Negative_Coronary_021_LAD_Secondary1_1.jpeg'\n",
      " 'Negative_Coronary_021_LAD_Secondary3_1.jpeg'\n",
      " 'Negative_Coronary_021_CX1_1.jpeg'\n",
      " 'Negative_Coronary_008_RCA_Secondary2_1.jpeg'\n",
      " 'Negative_Coronary_008_CX_Secondary4_1.jpeg'\n",
      " 'Negative_Coronary_008_LAD1_1.jpeg'\n",
      " 'Negative_Coronary_038_LAD_Secondary4_1.jpeg'\n",
      " 'Negative_Coronary_021_RCA_Secondary14_1.jpeg'\n",
      " 'Negative_Coronary_068_RCA_Secondary5_1.jpeg'\n",
      " 'Negative_Coronary_021_RCA_Secondary10_1.jpeg'\n",
      " 'Negative_Coronary_043_RCA_Secondary4_1.jpeg'\n",
      " 'Negative_Coronary_068_RCA_Secondary1_1.jpeg'\n",
      " 'Negative_Coronary_043_CX_Secondary2_1.jpeg'\n",
      " 'Negative_Coronary_021_LAD_Secondary7_1.jpeg'\n",
      " 'Negative_Coronary_008_RCA_Secondary6_1.jpeg'\n",
      " 'Negative_Coronary_008_RCA_Secondary4_1.jpeg'\n",
      " 'Negative_Coronary_008_CX_Secondary2_1.jpeg'\n",
      " 'Negative_Coronary_021_LAD_Secondary5_1.jpeg'\n",
      " 'Negative_Coronary_068_CX1_1.jpeg'\n",
      " 'Negative_Coronary_068_RCA_Secondary3_1.jpeg'\n",
      " 'Negative_Coronary_038_LAD_Secondary2_1.jpeg'\n",
      " 'Negative_Coronary_021_RCA_Secondary12_1.jpeg'\n",
      " 'Negative_Coronary_043_RCA_Secondary6_1.jpeg']\n",
      "\n",
      "Column: REQUEST_ID\n",
      "['FinalDataset1149_Version372_FINAL_CADClassification_Testing_1_Golden_Positive_Positive_Coronary_644_LAD1_5'\n",
      " 'FinalDataset1149_Version372_FINAL_CADClassification_Testing_1_Golden_Positive_Positive_Coronary_708_LAD1_6'\n",
      " 'FinalDataset1149_Version372_FINAL_CADClassification_Testing_1_Golden_Positive_Positive_Coronary_479_RCA1_2'\n",
      " ...\n",
      " 'FinalDataset1174_Version460_FINAL_CADClassification_Testing_1_Golden_Negative_Negative_Coronary_038_LAD_Secondary2_1'\n",
      " 'FinalDataset1174_Version460_FINAL_CADClassification_Testing_1_Golden_Negative_Negative_Coronary_021_RCA_Secondary12_1'\n",
      " 'FinalDataset1174_Version460_FINAL_CADClassification_Testing_1_Golden_Negative_Negative_Coronary_043_RCA_Secondary6_1']\n",
      "\n",
      "Column: MODEL_NAME\n",
      "['TOT500_2' 'TOT500' 'TOT1K' 'TOT2K' 'TOT2K_2']\n",
      "\n",
      "Column: TYPE\n",
      "['Classification']\n",
      "\n",
      "Column: ACTUAL_IMAGE\n",
      "['Positive' 'Negative']\n",
      "\n",
      "Column: PREDICTED_IMAGE\n",
      "['Positive' 'Negative' 'None']\n",
      "\n",
      "Column: MATCH\n",
      "['YES' 'NO']\n",
      "\n"
     ]
    }
   ],
   "source": [
    "# Iterate over columns\n",
    "for col in merged_df.columns:\n",
    "    if merged_df[col].dtype == 'object':\n",
    "        # Print column name and distinct values\n",
    "        print(f\"Column: {col}\")\n",
    "        print(merged_df[col].unique())\n",
    "        print()"
   ]
  },
  {
   "cell_type": "code",
   "execution_count": 8,
   "id": "c1c36d79-e1c4-49a3-a543-cab0b0a2234a",
   "metadata": {
    "tags": []
   },
   "outputs": [
    {
     "name": "stdout",
     "output_type": "stream",
     "text": [
      "Distinct MODEL_VERSION values:\n",
      "[372 336 337 338 343 367 406 407 408 409 410 411 445 446 447 468 462 460]\n"
     ]
    }
   ],
   "source": [
    "# Print distinct MODEL_VERSION values\n",
    "print(\"Distinct MODEL_VERSION values:\")\n",
    "print(merged_df[\"MODEL_VERSION\"].unique())"
   ]
  },
  {
   "cell_type": "markdown",
   "id": "1f9fd814-e57f-4b6f-96e9-44d827c99ff9",
   "metadata": {},
   "source": [
    "### Feature Engineering"
   ]
  },
  {
   "cell_type": "markdown",
   "id": "8b113fdd-80d9-4007-be40-cae7992b18d1",
   "metadata": {},
   "source": [
    "#### Create New Variables"
   ]
  },
  {
   "cell_type": "code",
   "execution_count": 9,
   "id": "994bf63d-f131-4c10-bb66-220fd44a4f3f",
   "metadata": {
    "tags": []
   },
   "outputs": [
    {
     "name": "stdout",
     "output_type": "stream",
     "text": [
      "      MODEL_ID  DATA_SIZE\n",
      "0          946        500\n",
      "1          946        500\n",
      "2          946        500\n",
      "3          946        500\n",
      "4          946        500\n",
      "...        ...        ...\n",
      "4495       955       2000\n",
      "4496       955       2000\n",
      "4497       955       2000\n",
      "4498       955       2000\n",
      "4499       955       2000\n",
      "\n",
      "[4500 rows x 2 columns]\n"
     ]
    }
   ],
   "source": [
    "# Create a new variable DATASET_SIZE using MODEL_ID column\n",
    "# Mapping dictionary for MODEL_ID to DATA_SIZE\n",
    "data_size_mapping = {\n",
    "    945: 500,\n",
    "    946: 500,\n",
    "    948: 1000,\n",
    "    955: 2000,\n",
    "    956: 2000\n",
    "}\n",
    "\n",
    "# Create new variable DATA_SIZE based on MODEL_ID\n",
    "merged_df['DATA_SIZE'] = merged_df['MODEL_ID'].map(data_size_mapping)\n",
    "\n",
    "# Print the first few rows to verify the result\n",
    "print(merged_df[['MODEL_ID', 'DATA_SIZE']])"
   ]
  },
  {
   "cell_type": "code",
   "execution_count": 10,
   "id": "33aef52e-884d-4619-aa98-3b9525532f7a",
   "metadata": {
    "tags": []
   },
   "outputs": [
    {
     "name": "stdout",
     "output_type": "stream",
     "text": [
      "1500\n"
     ]
    }
   ],
   "source": [
    "count_1000 = merged_df[merged_df['DATA_SIZE'] == 1000].shape[0]\n",
    "print(count_1000)"
   ]
  },
  {
   "cell_type": "code",
   "execution_count": 11,
   "id": "d20004d8-8c68-45c6-b7a4-e3e27fa698e2",
   "metadata": {
    "tags": []
   },
   "outputs": [
    {
     "name": "stdout",
     "output_type": "stream",
     "text": [
      "   MODEL_VERSION CNN_MODEL\n",
      "0            372  ResNet18\n",
      "1            372  ResNet18\n",
      "2            372  ResNet18\n",
      "3            372  ResNet18\n",
      "4            372  ResNet18\n"
     ]
    }
   ],
   "source": [
    "# Create a new variable CNN_MODEL  and add values as follows using MODEL_VERSION column\n",
    "# Mapping dictionary for MODEL_VERSION to CNN_MODEL\n",
    "cnn_model_mapping = {\n",
    "    372: 'ResNet18',\n",
    "    336: 'ResNet18',\n",
    "    337: 'ResNet50',\n",
    "    338: 'ResNet50',\n",
    "    343: 'InceptionV3',\n",
    "    367: 'InceptionV3',\n",
    "    406: 'ResNet18',\n",
    "    407: 'ResNet18',\n",
    "    408: 'ResNet50',\n",
    "    409: 'ResNet50',\n",
    "    410: 'InceptionV3',\n",
    "    411: 'InceptionV3',\n",
    "    445: 'ResNet18',\n",
    "    446: 'ResNet18',\n",
    "    447: 'ResNet50',\n",
    "    468: 'ResNet50',\n",
    "    462: 'InceptionV3',\n",
    "    460: 'InceptionV3'\n",
    "}\n",
    "\n",
    "# Create new variable CNN_MODEL based on MODEL_VERSION\n",
    "merged_df['CNN_MODEL'] = merged_df['MODEL_VERSION'].map(cnn_model_mapping)\n",
    "\n",
    "# Print the first few rows to verify the result\n",
    "print(merged_df[['MODEL_VERSION', 'CNN_MODEL']].head())"
   ]
  },
  {
   "cell_type": "code",
   "execution_count": 12,
   "id": "4ec69871-6bf1-4c31-b2a5-e3884fe47204",
   "metadata": {
    "tags": []
   },
   "outputs": [
    {
     "name": "stdout",
     "output_type": "stream",
     "text": [
      "   MODEL_VERSION  EPOCH\n",
      "0            372     20\n",
      "1            372     20\n",
      "2            372     20\n",
      "3            372     20\n",
      "4            372     20\n"
     ]
    }
   ],
   "source": [
    "# Create a new variable EPOCH  and add values as follows using MODEL_VERSION column\n",
    "# Mapping dictionary for MODEL_VERSION to EPOCH\n",
    "epoch_mapping = {\n",
    "    372: 20,\n",
    "    336: 50,\n",
    "    337: 20,\n",
    "    338: 50,\n",
    "    343: 20,\n",
    "    367: 50,\n",
    "    406: 20,\n",
    "    407: 50,\n",
    "    408: 20,\n",
    "    409: 50,\n",
    "    410: 20,\n",
    "    411: 50,\n",
    "    445: 20,\n",
    "    446: 50,\n",
    "    447: 20,\n",
    "    468: 50,\n",
    "    462: 20,\n",
    "    460: 50\n",
    "}\n",
    "\n",
    "# Create new variable EPOCH based on MODEL_VERSION\n",
    "merged_df['EPOCH'] = merged_df['MODEL_VERSION'].map(epoch_mapping)\n",
    "\n",
    "# Print the first few rows to verify the result\n",
    "print(merged_df[['MODEL_VERSION', 'EPOCH']].head())"
   ]
  },
  {
   "cell_type": "code",
   "execution_count": 13,
   "id": "68093631-06e6-43dc-bd2d-1ed9b2875da5",
   "metadata": {
    "tags": []
   },
   "outputs": [
    {
     "data": {
      "text/plain": [
       "<bound method NDFrame.head of       MODEL_VERSION  ACTUAL_DATASET_ID  \\\n",
       "0               372               1149   \n",
       "1               372               1149   \n",
       "2               372               1149   \n",
       "3               372               1149   \n",
       "4               372               1149   \n",
       "...             ...                ...   \n",
       "4495            460               1174   \n",
       "4496            460               1174   \n",
       "4497            460               1174   \n",
       "4498            460               1174   \n",
       "4499            460               1174   \n",
       "\n",
       "                                        IMAGE_NAME  PREDICTED_DATASET_ID  \\\n",
       "0                Positive_Coronary_644_LAD1_5.jpeg                  1149   \n",
       "1                Positive_Coronary_708_LAD1_6.jpeg                  1149   \n",
       "2                Positive_Coronary_479_RCA1_2.jpeg                  1149   \n",
       "3                Positive_Coronary_454_RCA1_8.jpeg                  1149   \n",
       "4                Positive_Coronary_228_LAD1_1.jpeg                  1149   \n",
       "...                                            ...                   ...   \n",
       "4495              Negative_Coronary_068_CX1_1.jpeg                  1174   \n",
       "4496   Negative_Coronary_068_RCA_Secondary3_1.jpeg                  1174   \n",
       "4497   Negative_Coronary_038_LAD_Secondary2_1.jpeg                  1173   \n",
       "4498  Negative_Coronary_021_RCA_Secondary12_1.jpeg                  1174   \n",
       "4499   Negative_Coronary_043_RCA_Secondary6_1.jpeg                  1173   \n",
       "\n",
       "      CONFIDENCE                                         REQUEST_ID  MODEL_ID  \\\n",
       "0             99  FinalDataset1149_Version372_FINAL_CADClassific...       946   \n",
       "1             99  FinalDataset1149_Version372_FINAL_CADClassific...       946   \n",
       "2             97  FinalDataset1149_Version372_FINAL_CADClassific...       946   \n",
       "3             99  FinalDataset1149_Version372_FINAL_CADClassific...       946   \n",
       "4             99  FinalDataset1149_Version372_FINAL_CADClassific...       946   \n",
       "...          ...                                                ...       ...   \n",
       "4495          99  FinalDataset1174_Version460_FINAL_CADClassific...       955   \n",
       "4496          98  FinalDataset1174_Version460_FINAL_CADClassific...       955   \n",
       "4497          99  FinalDataset1174_Version460_FINAL_CADClassific...       955   \n",
       "4498          98  FinalDataset1174_Version460_FINAL_CADClassific...       955   \n",
       "4499          99  FinalDataset1174_Version460_FINAL_CADClassific...       955   \n",
       "\n",
       "     MODEL_NAME            TYPE ACTUAL_IMAGE PREDICTED_IMAGE MATCH  DATA_SIZE  \\\n",
       "0      TOT500_2  Classification     Positive        Positive   YES        500   \n",
       "1      TOT500_2  Classification     Positive        Positive   YES        500   \n",
       "2      TOT500_2  Classification     Positive        Positive   YES        500   \n",
       "3      TOT500_2  Classification     Positive        Positive   YES        500   \n",
       "4      TOT500_2  Classification     Positive        Positive   YES        500   \n",
       "...         ...             ...          ...             ...   ...        ...   \n",
       "4495      TOT2K  Classification     Negative        Negative   YES       2000   \n",
       "4496      TOT2K  Classification     Negative        Negative   YES       2000   \n",
       "4497      TOT2K  Classification     Negative        Positive    NO       2000   \n",
       "4498      TOT2K  Classification     Negative        Negative   YES       2000   \n",
       "4499      TOT2K  Classification     Negative        Positive    NO       2000   \n",
       "\n",
       "        CNN_MODEL  EPOCH  \n",
       "0        ResNet18     20  \n",
       "1        ResNet18     20  \n",
       "2        ResNet18     20  \n",
       "3        ResNet18     20  \n",
       "4        ResNet18     20  \n",
       "...           ...    ...  \n",
       "4495  InceptionV3     50  \n",
       "4496  InceptionV3     50  \n",
       "4497  InceptionV3     50  \n",
       "4498  InceptionV3     50  \n",
       "4499  InceptionV3     50  \n",
       "\n",
       "[4500 rows x 15 columns]>"
      ]
     },
     "execution_count": 13,
     "metadata": {},
     "output_type": "execute_result"
    }
   ],
   "source": [
    "merged_df.head"
   ]
  },
  {
   "cell_type": "code",
   "execution_count": 14,
   "id": "542888c7-fb5d-4fdf-b561-ad0ec810e5e0",
   "metadata": {
    "tags": []
   },
   "outputs": [
    {
     "name": "stdout",
     "output_type": "stream",
     "text": [
      "MODEL_VERSION\n",
      "ACTUAL_DATASET_ID\n",
      "IMAGE_NAME\n",
      "PREDICTED_DATASET_ID\n",
      "CONFIDENCE\n",
      "REQUEST_ID\n",
      "MODEL_ID\n",
      "MODEL_NAME\n",
      "TYPE\n",
      "ACTUAL_IMAGE\n",
      "PREDICTED_IMAGE\n",
      "MATCH\n",
      "DATA_SIZE\n",
      "CNN_MODEL\n",
      "EPOCH\n"
     ]
    }
   ],
   "source": [
    "# Iterate over columns and print each column name vertically\n",
    "for col in merged_df.columns:\n",
    "    print(col)"
   ]
  },
  {
   "cell_type": "code",
   "execution_count": 15,
   "id": "c94418ac-f263-48e0-8f1f-e312309e7679",
   "metadata": {
    "tags": []
   },
   "outputs": [
    {
     "name": "stdout",
     "output_type": "stream",
     "text": [
      "DataFrame saved as 'cad_interference.xlsx'\n"
     ]
    }
   ],
   "source": [
    "# Save the new dataset\n",
    "# Specify the file path\n",
    "file_path = 'cad_interference.xlsx'\n",
    "\n",
    "# Save the DataFrame as an Excel file\n",
    "merged_df.to_excel(file_path, index=False)\n",
    "\n",
    "print(f\"DataFrame saved as '{file_path}'\")"
   ]
  },
  {
   "cell_type": "markdown",
   "id": "a3764c4d-1f36-4eb0-a121-07ccb7cc6958",
   "metadata": {},
   "source": [
    "## Model Performance Comparison"
   ]
  },
  {
   "cell_type": "code",
   "execution_count": 16,
   "id": "9cb09fb9-34ff-4739-bdf0-f9686f945728",
   "metadata": {
    "tags": []
   },
   "outputs": [],
   "source": [
    "import pandas as pd\n",
    "import matplotlib.pyplot as plt\n",
    "import seaborn as sns"
   ]
  },
  {
   "cell_type": "markdown",
   "id": "ef23cf01-0f12-4e82-b8d6-00af0e9bd81c",
   "metadata": {},
   "source": [
    "### Testing Accuracy Comparison"
   ]
  },
  {
   "cell_type": "code",
   "execution_count": 17,
   "id": "aed9d3f4-4ab9-43b9-b0d3-dad7ec2c5857",
   "metadata": {
    "tags": []
   },
   "outputs": [],
   "source": [
    "# Calculate accuracy\n",
    "merged_df['ACCURACY'] = (merged_df['MATCH'] == 'YES').astype(int)"
   ]
  },
  {
   "cell_type": "markdown",
   "id": "c3850c43-c7ff-4aca-9ba6-f5856093068f",
   "metadata": {},
   "source": [
    "#### Testing Accuracy by CNN Model"
   ]
  },
  {
   "cell_type": "code",
   "execution_count": 18,
   "id": "7e493ab1-8120-4fd0-a235-4018c23c4718",
   "metadata": {
    "tags": []
   },
   "outputs": [
    {
     "name": "stdout",
     "output_type": "stream",
     "text": [
      "ResNet18       1500\n",
      "ResNet50       1500\n",
      "InceptionV3    1500\n",
      "Name: CNN_MODEL, dtype: int64\n"
     ]
    },
    {
     "data": {
      "image/png": "[encoded data removed]",
      "text/plain": [
       "<Figure size 1000x600 with 1 Axes>"
      ]
     },
     "metadata": {},
     "output_type": "display_data"
    }
   ],
   "source": [
    "# Check class distribution of CNN MODEL in the resampled dataset\n",
    "cnn_counts = merged_df['CNN_MODEL'].value_counts()\n",
    "print(cnn_counts)\n",
    "\n",
    "# Plot the class distribution\n",
    "plt.figure(figsize=(10, 6))\n",
    "sns.barplot(x=cnn_counts.index, y=cnn_counts.values)\n",
    "plt.title('Class Distribution of CNN_MODEL')\n",
    "plt.xlabel('Class')\n",
    "plt.ylabel('Count')\n",
    "plt.show()"
   ]
  },
  {
   "cell_type": "code",
   "execution_count": 19,
   "id": "345108ce-babb-4212-b2db-101555d6f71d",
   "metadata": {
    "tags": []
   },
   "outputs": [
    {
     "data": {
      "image/png": "[encoded data removed]",
      "text/plain": [
       "<Figure size 1000x600 with 1 Axes>"
      ]
     },
     "metadata": {},
     "output_type": "display_data"
    }
   ],
   "source": [
    "# Model Performance Comparison\n",
    "plt.figure(figsize=(10, 6))\n",
    "sns.barplot(x='CNN_MODEL', y='ACCURACY', data=merged_df)\n",
    "\n",
    "plt.title('Model Performance Comparison by CNN Model')\n",
    "plt.xlabel('CNN Model')\n",
    "plt.ylabel('Accuracy')\n",
    "\n",
    "# Add labels for each bar\n",
    "for p in plt.gca().patches:\n",
    "    height = p.get_height()\n",
    "    plt.text(p.get_x() + p.get_width() / 2, height / 2 , f'{height:.3f}', ha='center')\n",
    "\n",
    "plt.show()"
   ]
  },
  {
   "cell_type": "markdown",
   "id": "5afc59d8-0b2d-4364-b3c6-8196453a493b",
   "metadata": {},
   "source": [
    "#### Testing Accuracy by CNN Model and Epoch"
   ]
  },
  {
   "cell_type": "code",
   "execution_count": 20,
   "id": "71017fa4-9a44-4b82-8b98-4b0c3caf4bdb",
   "metadata": {
    "tags": []
   },
   "outputs": [
    {
     "name": "stdout",
     "output_type": "stream",
     "text": [
      "20    2250\n",
      "50    2250\n",
      "Name: EPOCH, dtype: int64\n"
     ]
    },
    {
     "data": {
      "image/png": "[encoded data removed]",
      "text/plain": [
       "<Figure size 800x600 with 1 Axes>"
      ]
     },
     "metadata": {},
     "output_type": "display_data"
    }
   ],
   "source": [
    "# Count the occurrences of each epoch\n",
    "epoch_counts = merged_df['EPOCH'].value_counts()\n",
    "\n",
    "print(epoch_counts)\n",
    "\n",
    "# Plot the class distribution\n",
    "plt.figure(figsize=(8, 6))\n",
    "sns.barplot(x=epoch_counts.index, y=epoch_counts.values)\n",
    "plt.title('Distribution of EPOCH')\n",
    "plt.xlabel('Epoch')\n",
    "plt.ylabel('Count')\n",
    "plt.show()"
   ]
  },
  {
   "cell_type": "code",
   "execution_count": 21,
   "id": "d3ac2390-0c8d-43b5-92d6-b2a04750e1e6",
   "metadata": {
    "tags": []
   },
   "outputs": [
    {
     "data": {
      "image/png": "[encoded data removed]",
      "text/plain": [
       "<Figure size 1000x600 with 1 Axes>"
      ]
     },
     "metadata": {},
     "output_type": "display_data"
    }
   ],
   "source": [
    "# Model Performance Comparison\n",
    "plt.figure(figsize=(10, 6))\n",
    "sns.barplot(x='CNN_MODEL', y='ACCURACY', hue='EPOCH', data=merged_df)\n",
    "\n",
    "plt.title('Model Performance Comparison by Epoch')\n",
    "plt.xlabel('CNN Model')\n",
    "plt.ylabel('Accuracy')\n",
    "\n",
    "# Add labels for each bar\n",
    "for p in plt.gca().patches:\n",
    "    height = p.get_height()\n",
    "    plt.text(p.get_x() + p.get_width() / 2, height / 2 , f'{height:.3f}', ha='center')\n",
    "\n",
    "plt.legend(title='Epoch', loc='lower right', bbox_to_anchor=(1, 0))\n",
    "\n",
    "plt.show()"
   ]
  },
  {
   "cell_type": "markdown",
   "id": "fe04c11b-f407-48ed-a0b1-af033b79732e",
   "metadata": {},
   "source": [
    "#### Testing Accuracy by Data Size and CNN Model"
   ]
  },
  {
   "cell_type": "code",
   "execution_count": 22,
   "id": "f63c891d-fee0-4157-9a4a-72767ddef54a",
   "metadata": {
    "tags": []
   },
   "outputs": [
    {
     "name": "stdout",
     "output_type": "stream",
     "text": [
      "500     1500\n",
      "1000    1500\n",
      "2000    1500\n",
      "Name: DATA_SIZE, dtype: int64\n"
     ]
    },
    {
     "data": {
      "image/png": "[encoded data removed]",
      "text/plain": [
       "<Figure size 800x600 with 1 Axes>"
      ]
     },
     "metadata": {},
     "output_type": "display_data"
    }
   ],
   "source": [
    "# Count the occurrences of each cnn_model\n",
    "data_counts = merged_df['DATA_SIZE'].value_counts()\n",
    "print(data_counts)\n",
    "\n",
    "# Plot the class distribution\n",
    "plt.figure(figsize=(8, 6))\n",
    "sns.barplot(x=data_counts.index, y=data_counts.values)\n",
    "plt.title('Distribution of DATA_SIZE')\n",
    "plt.xlabel('DATA_SIZE')\n",
    "plt.ylabel('Count')\n",
    "plt.show()"
   ]
  },
  {
   "cell_type": "code",
   "execution_count": 23,
   "id": "032fb606-f51c-4b9e-be84-b6f3d8c7425f",
   "metadata": {
    "tags": []
   },
   "outputs": [
    {
     "data": {
      "image/png": "[encoded data removed]",
      "text/plain": [
       "<Figure size 1000x600 with 1 Axes>"
      ]
     },
     "metadata": {},
     "output_type": "display_data"
    }
   ],
   "source": [
    "# import matplotlib.pyplot as plt\n",
    "import seaborn as sns\n",
    "\n",
    "# Assuming your DataFrame is named 'merged_df'\n",
    "plt.figure(figsize=(10, 6))\n",
    "sns.barplot(x='CNN_MODEL', y='ACCURACY', hue='DATA_SIZE', data=merged_df)\n",
    "\n",
    "plt.title('Model Performance Comparison by Dataset Size')\n",
    "plt.xlabel('CNN Model')\n",
    "plt.ylabel('Accuracy')\n",
    "\n",
    "# Add labels for each bar\n",
    "for p in plt.gca().patches:\n",
    "    height = p.get_height()\n",
    "    plt.text(p.get_x() + p.get_width() / 2, height / 2 , f'{height:.3f}', ha='center')\n",
    "\n",
    "plt.legend(title='Data Size', loc='lower right', bbox_to_anchor=(1, 0))\n",
    "\n",
    "plt.show()"
   ]
  },
  {
   "cell_type": "markdown",
   "id": "9b70b8fd-d341-4677-b399-8bc0e019c573",
   "metadata": {},
   "source": [
    "#### Testing Accuracy by Data Size, Epoch and CNN Model"
   ]
  },
  {
   "cell_type": "code",
   "execution_count": null,
   "id": "8845d4a0-02d9-40f0-abfe-855ed13aef3a",
   "metadata": {
    "tags": []
   },
   "outputs": [],
   "source": [
    "# Create two separate plots for each epoch\n",
    "for epoch in merged_df['EPOCH'].unique():\n",
    "    plt.figure(figsize=(12, 8))\n",
    "    sns.barplot(x='CNN_MODEL', y='ACCURACY', hue='DATA_SIZE', \n",
    "                data=merged_df[merged_df['EPOCH'] == epoch])\n",
    "\n",
    "    plt.title(f'Model Performance Comparison by Data Size (Epoch {epoch})')\n",
    "    plt.xlabel('CNN Model')\n",
    "    plt.ylabel('Accuracy')\n",
    "\n",
    "    # Add labels for each bar\n",
    "    for p in plt.gca().patches:\n",
    "        height = p.get_height()\n",
    "        plt.text(p.get_x() + p.get_width() / 2, height /2, f'{height:.3f}', ha='center')\n",
    "\n",
    "    plt.legend(title='Data Size', loc='lower right', bbox_to_anchor=(1, 0))\n",
    "\n",
    "    plt.show()"
   ]
  },
  {
   "cell_type": "code",
   "execution_count": null,
   "id": "60002c1e-ec32-4c6f-b994-342aaca828a0",
   "metadata": {
    "tags": []
   },
   "outputs": [],
   "source": [
    "import matplotlib.pyplot as plt\n",
    "import seaborn as sns\n",
    "\n",
    "# Assuming merged_df is your DataFrame\n",
    "\n",
    "# Get unique epochs\n",
    "epochs = merged_df['EPOCH'].unique()\n",
    "\n",
    "# Create subplots with 1 row and 2 columns\n",
    "fig, axs = plt.subplots(1, 2, figsize=(24, 8))\n",
    "\n",
    "for i, epoch in enumerate(epochs):\n",
    "    ax = axs[i]\n",
    "    sns.barplot(x='CNN_MODEL', y='ACCURACY', hue='DATA_SIZE',\n",
    "                data=merged_df[merged_df['EPOCH'] == epoch], ax=ax)\n",
    "\n",
    "    ax.set_title(f'Model Performance Comparison by Data Size (Epoch {epoch})')\n",
    "    ax.set_xlabel('CNN Model')\n",
    "    ax.set_ylabel('Accuracy')\n",
    "\n",
    "    # Add labels for each bar\n",
    "    for p in ax.patches:\n",
    "        height = p.get_height()\n",
    "        ax.text(p.get_x() + p.get_width() / 2, height / 2, f'{height:.3f}', ha='center')\n",
    "\n",
    "    ax.legend(title='Data Size', loc='lower right', bbox_to_anchor=(1, 0))\n",
    "\n",
    "plt.tight_layout()\n",
    "plt.show()"
   ]
  },
  {
   "cell_type": "markdown",
   "id": "0594a5e4-fdb5-4e3b-9f35-aefcba94f3d7",
   "metadata": {},
   "source": [
    "### Model Confidence Analysis"
   ]
  },
  {
   "cell_type": "code",
   "execution_count": null,
   "id": "977df65b-8f60-4a59-a317-c59c114e9431",
   "metadata": {
    "tags": []
   },
   "outputs": [],
   "source": [
    "# Model Confidence Analysis\n",
    "sns.boxplot(x='CNN_MODEL', y='CONFIDENCE', hue='MATCH', data=merged_df)\n",
    "plt.title('Model Confidence Analysis')\n",
    "plt.xlabel('CNN Model')\n",
    "plt.ylabel('Confidence')\n",
    "plt.show()"
   ]
  },
  {
   "cell_type": "markdown",
   "id": "0be32207-a600-4b1d-b6c5-5671d3eaa05d",
   "metadata": {},
   "source": [
    "### Error Analysis"
   ]
  },
  {
   "cell_type": "markdown",
   "id": "9de0c7f3-60a1-42bd-8689-2823de9b3332",
   "metadata": {},
   "source": [
    "##### Create a Subset of the Data"
   ]
  },
  {
   "cell_type": "code",
   "execution_count": null,
   "id": "cb4912fb-1273-4c1c-8ed1-de82003b3e11",
   "metadata": {
    "tags": []
   },
   "outputs": [],
   "source": [
    "# Create a subset of the data\n",
    "subset_df = merged_df[['IMAGE_NAME', 'ACTUAL_IMAGE', 'CNN_MODEL', 'MATCH']]\n",
    "\n",
    "# Print the first few rows of the subset for verification\n",
    "print(subset_df.head())"
   ]
  },
  {
   "cell_type": "code",
   "execution_count": null,
   "id": "27830823-bb70-4a4e-a043-97b4f0493502",
   "metadata": {
    "tags": []
   },
   "outputs": [],
   "source": [
    "# Get the size of the dataset (number of rows and columns)\n",
    "num_rows, num_cols = subset_df.shape\n",
    "print(f\"Number of rows in the dataset: {num_rows}\")\n",
    "print(f\"Number of columns in the dataset: {num_cols}\")"
   ]
  },
  {
   "cell_type": "markdown",
   "id": "aabc42da-7a9d-45fe-84c2-69ac6c99dec7",
   "metadata": {},
   "source": [
    "#### Error Analysis by CNN Model"
   ]
  },
  {
   "cell_type": "code",
   "execution_count": null,
   "id": "d486df14-7124-4aec-9b69-a82a7c12affe",
   "metadata": {
    "tags": []
   },
   "outputs": [],
   "source": [
    "# Error Analysis\n",
    "error_df_cnn = subset_df[subset_df['MATCH'] == 'NO']\n",
    "sns.countplot(x='CNN_MODEL', data=error_df_cnn)\n",
    "plt.title('Error Analysis by CNN Model')\n",
    "plt.xlabel('CNN Model')\n",
    "plt.ylabel('Count')\n",
    "plt.show()"
   ]
  },
  {
   "cell_type": "code",
   "execution_count": null,
   "id": "00bd2cbd-4e3c-4b66-a6f2-9292c6d5a618",
   "metadata": {
    "tags": []
   },
   "outputs": [],
   "source": [
    "# Calculate the total count of predictions for each model\n",
    "total_predictions = subset_df['CNN_MODEL'].value_counts()\n",
    "\n",
    "# Calculate the total count of errors for each model\n",
    "error_counts = error_df_cnn['CNN_MODEL'].value_counts()\n",
    "\n",
    "# Calculate the percentage of errors within each model\n",
    "error_percentages = (error_counts / total_predictions) * 100\n",
    "\n",
    "# Plot the error count and percentage\n",
    "plt.figure(figsize=(10, 6))\n",
    "sns.barplot(x=error_percentages.index, y=error_percentages.values)\n",
    "plt.title('Error Analysis by CNN Model')\n",
    "plt.xlabel('CNN Model')\n",
    "plt.ylabel('Error Percentage')\n",
    "\n",
    "\n",
    "# Add labels for each class\n",
    "for i, patch in enumerate(plt.gca().patches):\n",
    "    height = patch.get_height()\n",
    "    if height > 0:\n",
    "        plt.text(patch.get_x() + patch.get_width() / 2, patch.get_y() + height /2,\n",
    "                 f\"{height:.1f}%\", ha='center', va='center', color='black', fontsize=10)\n",
    "        \n",
    "plt.show()"
   ]
  },
  {
   "cell_type": "markdown",
   "id": "8a1340de-4707-4f28-9fbf-bffda5ee6d2a",
   "metadata": {},
   "source": [
    "#### Error Analysis by Class and CNN Model"
   ]
  },
  {
   "cell_type": "markdown",
   "id": "19b3b633-11ed-437b-bfe8-7990c5e31c36",
   "metadata": {},
   "source": [
    "##### Check Class Distribution"
   ]
  },
  {
   "cell_type": "code",
   "execution_count": null,
   "id": "d8842fe0-6842-4d73-9c44-b39b0622e3d1",
   "metadata": {
    "tags": []
   },
   "outputs": [],
   "source": [
    "# Count the occurrences of each class\n",
    "class_counts = subset_df['ACTUAL_IMAGE'].value_counts()\n",
    "\n",
    "# Plot the class distribution\n",
    "plt.figure(figsize=(8, 6))\n",
    "sns.barplot(x=class_counts.index, y=class_counts.values)\n",
    "plt.title('Class Distribution of ACTUAL_IMAGE')\n",
    "plt.xlabel('Class')\n",
    "plt.ylabel('Count')\n",
    "plt.show()"
   ]
  },
  {
   "cell_type": "code",
   "execution_count": null,
   "id": "aa560146-b884-4250-a488-0c55770aa03c",
   "metadata": {
    "tags": []
   },
   "outputs": [],
   "source": [
    "# Error Analysis\n",
    "error_df = subset_df[subset_df['MATCH'] == 'NO']\n",
    "sns.countplot(x='CNN_MODEL', hue='ACTUAL_IMAGE', data=error_df)\n",
    "plt.title('Error Analysis by CNN Model and Actual Image (Balanced Classes)')\n",
    "plt.xlabel('CNN Model')\n",
    "plt.ylabel('Count')\n",
    "plt.show()"
   ]
  },
  {
   "cell_type": "markdown",
   "id": "b13a982f-952a-41a6-9234-d58040b6db22",
   "metadata": {},
   "source": [
    "##### Normalize the Chart Using Percentages"
   ]
  },
  {
   "cell_type": "code",
   "execution_count": null,
   "id": "6627a1e3-bbb9-43fb-bce8-f25989e19d13",
   "metadata": {
    "tags": []
   },
   "outputs": [],
   "source": [
    "# Count the errors in each class within each CNN model\n",
    "error_count = error_df.groupby(['CNN_MODEL', 'ACTUAL_IMAGE']).size().reset_index(name='ERROR_COUNT')\n",
    "\n",
    "# Calculate the total errors for each CNN model\n",
    "total_errors = error_count.groupby('CNN_MODEL')['ERROR_COUNT'].transform('sum')\n",
    "\n",
    "# Calculate the percentage of errors in each class within each CNN model\n",
    "error_count['ERROR_PERCENTAGE'] = (error_count['ERROR_COUNT'] / total_errors) * 100\n",
    "\n",
    "# Create the barplot\n",
    "plt.figure(figsize=(10, 6))\n",
    "ax = sns.barplot(x='CNN_MODEL', y='ERROR_PERCENTAGE', hue='ACTUAL_IMAGE', data=error_count)\n",
    "\n",
    "# Add labels to each bar\n",
    "for p in ax.patches:\n",
    "    height = p.get_height()\n",
    "    ax.text(p.get_x() + p.get_width() / 2., height + 0.5, f'{height:.2f}%', ha='center')\n",
    "\n",
    "plt.title('Error Analysis by CNN Model & Class (Balanced Classes)')\n",
    "plt.xlabel('CNN Model')\n",
    "plt.ylabel('Error Percentage')\n",
    "plt.show()"
   ]
  },
  {
   "cell_type": "code",
   "execution_count": null,
   "id": "8df080fd-90fc-4478-809b-44a4771ea548",
   "metadata": {},
   "outputs": [],
   "source": []
  }
 ],
 "metadata": {
  "kernelspec": {
   "display_name": "Python 3 (ipykernel)",
   "language": "python",
   "name": "python3"
  },
  "language_info": {
   "codemirror_mode": {
    "name": "ipython",
    "version": 3
   },
   "file_extension": ".py",
   "mimetype": "text/x-python",
   "name": "python",
   "nbconvert_exporter": "python",
   "pygments_lexer": "ipython3",
   "version": "3.10.9"
  }
 },
 "nbformat": 4,
 "nbformat_minor": 5
}
